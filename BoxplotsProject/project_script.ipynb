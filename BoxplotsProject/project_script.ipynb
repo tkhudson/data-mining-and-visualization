{
 "cells": [
  {
   "cell_type": "code",
   "execution_count": 126,
   "metadata": {},
   "outputs": [
    {
     "data": {
      "text/html": [
       "<div>\n",
       "<style scoped>\n",
       "    .dataframe tbody tr th:only-of-type {\n",
       "        vertical-align: middle;\n",
       "    }\n",
       "\n",
       "    .dataframe tbody tr th {\n",
       "        vertical-align: top;\n",
       "    }\n",
       "\n",
       "    .dataframe thead th {\n",
       "        text-align: right;\n",
       "    }\n",
       "</style>\n",
       "<table border=\"1\" class=\"dataframe\">\n",
       "  <thead>\n",
       "    <tr style=\"text-align: right;\">\n",
       "      <th></th>\n",
       "      <th>rank</th>\n",
       "      <th>title</th>\n",
       "      <th>gross</th>\n",
       "      <th>year</th>\n",
       "    </tr>\n",
       "  </thead>\n",
       "  <tbody>\n",
       "    <tr>\n",
       "      <th>0</th>\n",
       "      <td>1</td>\n",
       "      <td>Avatar</td>\n",
       "      <td>2.841389e+09</td>\n",
       "      <td>2009.0</td>\n",
       "    </tr>\n",
       "    <tr>\n",
       "      <th>1</th>\n",
       "      <td>2</td>\n",
       "      <td>Avengers: Endgame</td>\n",
       "      <td>2.797501e+09</td>\n",
       "      <td>2019.0</td>\n",
       "    </tr>\n",
       "    <tr>\n",
       "      <th>2</th>\n",
       "      <td>3</td>\n",
       "      <td>Titanic</td>\n",
       "      <td>2.201647e+09</td>\n",
       "      <td>1997.0</td>\n",
       "    </tr>\n",
       "    <tr>\n",
       "      <th>3</th>\n",
       "      <td>4</td>\n",
       "      <td>Star Wars: Episode VII - The Force Awakens</td>\n",
       "      <td>2.068456e+09</td>\n",
       "      <td>2015.0</td>\n",
       "    </tr>\n",
       "    <tr>\n",
       "      <th>4</th>\n",
       "      <td>5</td>\n",
       "      <td>Avengers: Infinity War</td>\n",
       "      <td>2.048360e+09</td>\n",
       "      <td>2018.0</td>\n",
       "    </tr>\n",
       "    <tr>\n",
       "      <th>...</th>\n",
       "      <td>...</td>\n",
       "      <td>...</td>\n",
       "      <td>...</td>\n",
       "      <td>...</td>\n",
       "    </tr>\n",
       "    <tr>\n",
       "      <th>195</th>\n",
       "      <td>196</td>\n",
       "      <td>Brave</td>\n",
       "      <td>5.389832e+08</td>\n",
       "      <td>2012.0</td>\n",
       "    </tr>\n",
       "    <tr>\n",
       "      <th>196</th>\n",
       "      <td>197</td>\n",
       "      <td>Star Wars: Episode V - The Empire Strikes Back</td>\n",
       "      <td>5.383751e+08</td>\n",
       "      <td>1980.0</td>\n",
       "    </tr>\n",
       "    <tr>\n",
       "      <th>197</th>\n",
       "      <td>198</td>\n",
       "      <td>The Simpsons Movie</td>\n",
       "      <td>5.364143e+08</td>\n",
       "      <td>2007.0</td>\n",
       "    </tr>\n",
       "    <tr>\n",
       "      <th>198</th>\n",
       "      <td>199</td>\n",
       "      <td>The Revenant</td>\n",
       "      <td>5.329505e+08</td>\n",
       "      <td>2015.0</td>\n",
       "    </tr>\n",
       "    <tr>\n",
       "      <th>199</th>\n",
       "      <td>200</td>\n",
       "      <td>The Meg</td>\n",
       "      <td>5.302595e+08</td>\n",
       "      <td>2018.0</td>\n",
       "    </tr>\n",
       "  </tbody>\n",
       "</table>\n",
       "<p>200 rows × 4 columns</p>\n",
       "</div>"
      ],
      "text/plain": [
       "     rank                                           title         gross  \\\n",
       "0       1                                          Avatar  2.841389e+09   \n",
       "1       2                               Avengers: Endgame  2.797501e+09   \n",
       "2       3                                         Titanic  2.201647e+09   \n",
       "3       4      Star Wars: Episode VII - The Force Awakens  2.068456e+09   \n",
       "4       5                          Avengers: Infinity War  2.048360e+09   \n",
       "..    ...                                             ...           ...   \n",
       "195   196                                           Brave  5.389832e+08   \n",
       "196   197  Star Wars: Episode V - The Empire Strikes Back  5.383751e+08   \n",
       "197   198                              The Simpsons Movie  5.364143e+08   \n",
       "198   199                                    The Revenant  5.329505e+08   \n",
       "199   200                                         The Meg  5.302595e+08   \n",
       "\n",
       "       year  \n",
       "0    2009.0  \n",
       "1    2019.0  \n",
       "2    1997.0  \n",
       "3    2015.0  \n",
       "4    2018.0  \n",
       "..      ...  \n",
       "195  2012.0  \n",
       "196  1980.0  \n",
       "197  2007.0  \n",
       "198  2015.0  \n",
       "199  2018.0  \n",
       "\n",
       "[200 rows x 4 columns]"
      ]
     },
     "execution_count": 126,
     "metadata": {},
     "output_type": "execute_result"
    }
   ],
   "source": [
    "# Samuel Greer\n",
    "# Tyler Hudson\n",
    "# Sanya Khaja\n",
    "# Lesley Reyes\n",
    "\n",
    "import pandas as pd\n",
    "import numpy as np\n",
    "import matplotlib.pyplot as plt\n",
    "import seaborn as sns\n",
    "\n",
    "movie = pd.read_csv(\"movie_rankings.csv\")\n",
    "movie.size\n",
    "movie.shape\n",
    "movie"
   ]
  },
  {
   "cell_type": "code",
   "execution_count": 127,
   "metadata": {},
   "outputs": [],
   "source": [
    "movie['decade'] = movie.year.apply(lambda x: str(x)[:3]+'0')\n",
    "movie.loc['decade'] = pd.to_numeric(movie['decade'])"
   ]
  },
  {
   "cell_type": "code",
   "execution_count": 128,
   "metadata": {},
   "outputs": [
    {
     "data": {
      "text/plain": [
       "<AxesSubplot:xlabel='decade', ylabel='gross'>"
      ]
     },
     "execution_count": 128,
     "metadata": {},
     "output_type": "execute_result"
    },
    {
     "data": {
      "image/png": "[encoded data removed]",
      "text/plain": [
       "<Figure size 720x720 with 1 Axes>"
      ]
     },
     "metadata": {
      "needs_background": "light"
     },
     "output_type": "display_data"
    }
   ],
   "source": [
    "order = ['1970','1980','1990','2000','2010','2020']\n",
    "plt.subplots(figsize=(10,10))\n",
    "sns.boxplot(x='decade', y='gross', data=movie, order = order)"
   ]
  },
  {
   "cell_type": "code",
   "execution_count": 129,
   "metadata": {},
   "outputs": [
    {
     "name": "stdout",
     "output_type": "stream",
     "text": [
      "year\n",
      "1977.0    7.753980e+08\n",
      "1980.0    5.383751e+08\n",
      "1982.0    7.929106e+08\n",
      "1993.0    1.033928e+09\n",
      "1994.0    8.809735e+08\n",
      "1996.0    8.174009e+08\n",
      "1997.0    1.136559e+09\n",
      "1998.0    5.537098e+08\n",
      "1999.0    8.499445e+08\n",
      "2000.0    5.463881e+08\n",
      "2001.0    8.250446e+08\n",
      "2002.0    8.254773e+08\n",
      "2003.0    8.697335e+08\n",
      "2004.0    7.183808e+08\n",
      "2005.0    7.030278e+08\n",
      "2006.0    7.368528e+08\n",
      "2007.0    7.583475e+08\n",
      "2008.0    6.808763e+08\n",
      "2009.0    1.105168e+09\n",
      "2010.0    7.907691e+08\n",
      "2011.0    7.516402e+08\n",
      "2012.0    8.425505e+08\n",
      "2013.0    8.321209e+08\n",
      "2014.0    7.504499e+08\n",
      "2015.0    1.013389e+09\n",
      "2016.0    8.249641e+08\n",
      "2017.0    8.749509e+08\n",
      "2018.0    9.300701e+08\n",
      "2019.0    1.150519e+09\n",
      "2021.0    7.537304e+08\n",
      "Name: gross, dtype: float64\n",
      "decade\n",
      "1970      1\n",
      "1980      2\n",
      "1990     10\n",
      "2000     52\n",
      "2010    133\n",
      "2020      2\n",
      "Name: year, dtype: int64\n"
     ]
    },
    {
     "data": {
      "image/png": "[encoded data removed]",
      "text/plain": [
       "<Figure size 432x288 with 1 Axes>"
      ]
     },
     "metadata": {},
     "output_type": "display_data"
    }
   ],
   "source": [
    "year_mean=movie.groupby(['year']).gross.mean()\n",
    "print(year_mean)\n",
    "\n",
    "labels = ['70s','80s','90s','00s','10s','20s']\n",
    "decade_count = movie.groupby(['decade']).year.count()\n",
    "print(decade_count)\n",
    "\n",
    "plt.pie(decade_count,autopct='%1.1f%%',labels = labels,radius = 2)\n",
    "plt.show()"
   ]
  },
  {
   "cell_type": "code",
   "execution_count": 130,
   "metadata": {},
   "outputs": [],
   "source": [
    "tl = movie['title'].str.len()"
   ]
  },
  {
   "cell_type": "code",
   "execution_count": 109,
   "metadata": {},
   "outputs": [
    {
     "data": {
      "text/plain": [
       "Text(0.5, 0, 'Title Length')"
      ]
     },
     "execution_count": 109,
     "metadata": {},
     "output_type": "execute_result"
    },
    {
     "data": {
      "image/png": "[encoded data removed]",
      "text/plain": [
       "<Figure size 1440x1800 with 1 Axes>"
      ]
     },
     "metadata": {
      "needs_background": "light"
     },
     "output_type": "display_data"
    }
   ],
   "source": [
    "fig=plt.figure(figsize=(20,25))\n",
    "\n",
    "plt.subplot(3,2,1)\n",
    "plt.hist(tl,bins = 15)\n",
    "plt.title('Frequency Distribution')\n",
    "plt.ylabel('Frequency')\n",
    "plt.xlabel('Title Length')"
   ]
  },
  {
   "cell_type": "code",
   "execution_count": null,
   "metadata": {},
   "outputs": [],
   "source": []
  }
 ],
 "metadata": {
  "kernelspec": {
   "display_name": "Python 3",
   "language": "python",
   "name": "python3"
  },
  "language_info": {
   "codemirror_mode": {
    "name": "ipython",
    "version": 3
   },
   "file_extension": ".py",
   "mimetype": "text/x-python",
   "name": "python",
   "nbconvert_exporter": "python",
   "pygments_lexer": "ipython3",
   "version": "3.8.5"
  }
 },
 "nbformat": 4,
 "nbformat_minor": 4
}
